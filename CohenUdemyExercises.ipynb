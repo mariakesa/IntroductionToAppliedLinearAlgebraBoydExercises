{
 "cells": [
  {
   "cell_type": "code",
   "execution_count": 1,
   "id": "5c9c6d99",
   "metadata": {},
   "outputs": [],
   "source": [
    "import numpy as np\n",
    "import matplotlib.pyplot as plt"
   ]
  },
  {
   "cell_type": "markdown",
   "id": "9ab7164c",
   "metadata": {},
   "source": [
    "# Decompose a vector to orthogonal components"
   ]
  },
  {
   "cell_type": "code",
   "execution_count": 5,
   "id": "b64d4b6a",
   "metadata": {
    "scrolled": true
   },
   "outputs": [
    {
     "name": "stdout",
     "output_type": "stream",
     "text": [
      "[2. 0.]\n",
      "[0. 3.]\n"
     ]
    }
   ],
   "source": [
    "w=np.array([2,3]).T\n",
    "v=np.array([4,0]).T\n",
    "\n",
    "#v is the reference vector\n",
    "\n",
    "parallel=((w.T@v)/(v.T@v))*v\n",
    "print(parallel)\n",
    "orthogonal=w-parallel\n",
    "print(orthogonal)"
   ]
  },
  {
   "cell_type": "code",
   "execution_count": null,
   "id": "aa04bedb",
   "metadata": {},
   "outputs": [],
   "source": [
    "vecs=np.array([w,v,parallel,orthogonal])\n",
    "zero=np.array([[0,0,0,0],[0,0,0,0]])\n",
    "plt.quiver(*zero,vecs[:,0],vecs[:color=['r','g','b','y'])"
   ]
  }
 ],
 "metadata": {
  "kernelspec": {
   "display_name": "Python 3",
   "language": "python",
   "name": "python3"
  },
  "language_info": {
   "codemirror_mode": {
    "name": "ipython",
    "version": 3
   },
   "file_extension": ".py",
   "mimetype": "text/x-python",
   "name": "python",
   "nbconvert_exporter": "python",
   "pygments_lexer": "ipython3",
   "version": "3.7.10"
  }
 },
 "nbformat": 4,
 "nbformat_minor": 5
}
